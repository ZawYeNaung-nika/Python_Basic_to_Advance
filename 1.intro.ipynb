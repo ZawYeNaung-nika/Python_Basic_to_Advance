{
 "nbformat": 4,
 "nbformat_minor": 0,
 "metadata": {
  "colab": {
   "provenance": [],
   "gpuType": "T4",
   "authorship_tag": "ABX9TyPc0kPUiT+US+pP53Q8sQhA"
  },
  "kernelspec": {
   "name": "python3",
   "display_name": "Python 3"
  },
  "language_info": {
   "name": "python"
  },
  "accelerator": "GPU"
 },
 "cells": [
  {
   "cell_type": "markdown",
   "source": [],
   "metadata": {
    "id": "vEpE5RQovy1O"
   }
  },
  {
   "cell_type": "markdown",
   "source": [
    "#Control structure"
   ],
   "metadata": {
    "id": "oEjFU3Hxv0Td"
   }
  },
  {
   "cell_type": "markdown",
   "source": [
    "#Intro"
   ],
   "metadata": {
    "id": "E8Sj0kbk9Z1t"
   }
  },
  {
   "cell_type": "code",
   "source": [
    "# print introduction\n",
    "# print Function\n",
    "# Keyword Argument\n",
    "# float\n",
    "# input function\n",
    "\n",
    "# print introduction\n",
    "print('Hello Python')"
   ],
   "metadata": {
    "colab": {
     "base_uri": "https://localhost:8080/"
    },
    "id": "M4tcZbdkv-nt",
    "executionInfo": {
     "status": "ok",
     "timestamp": 1702819677937,
     "user_tz": -390,
     "elapsed": 384,
     "user": {
      "displayName": "Zaw Ye Naung",
      "userId": "15328688917520132477"
     }
    },
    "outputId": "3862d609-ed0e-455c-c3b3-cf06dc012a0a",
    "is_executing": true
   },
   "execution_count": null,
   "outputs": []
  },
  {
   "cell_type": "markdown",
   "source": [
    "#Control Structure"
   ],
   "metadata": {
    "id": "hVehSbF59l8X"
   }
  },
  {
   "cell_type": "code",
   "source": [
    "#if\n",
    "#if else\n",
    "#elif\n",
    "a = 10\n",
    "b = 20\n",
    "if a < b:\n",
    "  print(f'the result is : ', a < b)"
   ],
   "metadata": {
    "colab": {
     "base_uri": "https://localhost:8080/"
    },
    "id": "A3usfBRh9fDu",
    "executionInfo": {
     "status": "ok",
     "timestamp": 1702819666054,
     "user_tz": -390,
     "elapsed": 386,
     "user": {
      "displayName": "Zaw Ye Naung",
      "userId": "15328688917520132477"
     }
    },
    "outputId": "ebddf992-6b90-41d9-ebf7-ffc803f7dfad",
    "is_executing": true
   },
   "execution_count": null,
   "outputs": []
  },
  {
   "cell_type": "code",
   "source": [
    "a = 10\n",
    "b = 20\n",
    "if a > b:\n",
    "  print(f'the result is : ', a > b)\n",
    "else:\n",
    "  print('The result is false')\n",
    "#statement is false"
   ],
   "metadata": {
    "colab": {
     "base_uri": "https://localhost:8080/"
    },
    "id": "rv1-YNxoweym",
    "executionInfo": {
     "status": "ok",
     "timestamp": 1702816372040,
     "user_tz": -390,
     "elapsed": 314,
     "user": {
      "displayName": "Zaw Ye Naung",
      "userId": "15328688917520132477"
     }
    },
    "outputId": "a1d5184a-1341-468a-d21c-9ff254841d22"
   },
   "execution_count": 3,
   "outputs": [
    {
     "output_type": "stream",
     "name": "stdout",
     "text": [
      "The result is false\n"
     ]
    }
   ]
  },
  {
   "cell_type": "code",
   "source": [
    "a = 10\n",
    "b = 10\n",
    "if a > b:\n",
    "  print(f'the result is :', a > b)\n",
    "elif a == b:\n",
    "  print('a equal b')\n",
    "else:\n",
    "  print('The result is false')"
   ],
   "metadata": {
    "colab": {
     "base_uri": "https://localhost:8080/"
    },
    "id": "SzHxr2dgwpng",
    "executionInfo": {
     "status": "ok",
     "timestamp": 1702816515479,
     "user_tz": -390,
     "elapsed": 4,
     "user": {
      "displayName": "Zaw Ye Naung",
      "userId": "15328688917520132477"
     }
    },
    "outputId": "4dfc3fbc-27c3-4233-e6aa-c50added743e"
   },
   "execution_count": 4,
   "outputs": [
    {
     "output_type": "stream",
     "name": "stdout",
     "text": [
      "a equal b\n"
     ]
    }
   ]
  },
  {
   "cell_type": "code",
   "source": [
    "a = 30\n",
    "b = 45\n",
    "c = 99\n",
    "if (a > b) and (a > c):\n",
    "  largest_number = a\n",
    "elif (b > a) and (b > c):\n",
    "  largest_number = b\n",
    "else:\n",
    "  largest_number = c\n",
    "print(\"Tje largest number is : \", largest_number)"
   ],
   "metadata": {
    "colab": {
     "base_uri": "https://localhost:8080/"
    },
    "id": "9gdvofDkxgFf",
    "executionInfo": {
     "status": "ok",
     "timestamp": 1702816847375,
     "user_tz": -390,
     "elapsed": 521,
     "user": {
      "displayName": "Zaw Ye Naung",
      "userId": "15328688917520132477"
     }
    },
    "outputId": "5825d561-0eb5-4bc2-ca79-d9f166f1856e"
   },
   "execution_count": 6,
   "outputs": [
    {
     "output_type": "stream",
     "name": "stdout",
     "text": [
      "Tje largest number is :  99\n"
     ]
    }
   ]
  },
  {
   "cell_type": "code",
   "source": [
    "a = 90\n",
    "b = 85\n",
    "c = 100\n",
    "d = 101\n",
    "e = 11\n",
    "if (a > b) and (a > c) and (a > d) and (a > e):\n",
    "  largest_number = a\n",
    "elif (b > a) and (b > c) and (a > d) and (a > e):\n",
    "  largest_number = b\n",
    "elif (c > a) and (c > b) and (c > d) and (c > e):\n",
    "  largest_number = c\n",
    "elif (d > a) and (d > b) and (d > c) and (d > e):\n",
    "  largest_number = d\n",
    "else:\n",
    "  largest_number = e\n",
    "print(\"The largest number is : \", largest_number)"
   ],
   "metadata": {
    "colab": {
     "base_uri": "https://localhost:8080/"
    },
    "id": "-qxgpiqfysvm",
    "executionInfo": {
     "status": "ok",
     "timestamp": 1702817350597,
     "user_tz": -390,
     "elapsed": 4,
     "user": {
      "displayName": "Zaw Ye Naung",
      "userId": "15328688917520132477"
     }
    },
    "outputId": "c03d0652-6d33-455b-c030-2c5332ee74fc"
   },
   "execution_count": 7,
   "outputs": [
    {
     "output_type": "stream",
     "name": "stdout",
     "text": [
      "The largest number is :  101\n"
     ]
    }
   ]
  },
  {
   "cell_type": "markdown",
   "source": [
    "#float"
   ],
   "metadata": {
    "id": "JI7UJGj102Xc"
   }
  },
  {
   "cell_type": "code",
   "source": [
    "a = 1.2345\n",
    "print('The value is %.3f'%a)"
   ],
   "metadata": {
    "colab": {
     "base_uri": "https://localhost:8080/"
    },
    "id": "gyEfK4eh0r85",
    "executionInfo": {
     "status": "ok",
     "timestamp": 1702818812485,
     "user_tz": -390,
     "elapsed": 2,
     "user": {
      "displayName": "Zaw Ye Naung",
      "userId": "15328688917520132477"
     }
    },
    "outputId": "0173ead6-fdba-408b-ed41-1de5369f433a"
   },
   "execution_count": 9,
   "outputs": [
    {
     "output_type": "stream",
     "name": "stdout",
     "text": [
      "The value is 1.234\n"
     ]
    }
   ]
  },
  {
   "cell_type": "markdown",
   "source": [
    "#Function"
   ],
   "metadata": {
    "id": "6q16n0y16bMw"
   }
  },
  {
   "cell_type": "code",
   "source": [
    "a = 10\n",
    "b = 20\n",
    "print('a value is {} and b value is {}'.format(a,b))"
   ],
   "metadata": {
    "colab": {
     "base_uri": "https://localhost:8080/"
    },
    "id": "VkwEOYNY6Nn2",
    "executionInfo": {
     "status": "ok",
     "timestamp": 1702819021715,
     "user_tz": -390,
     "elapsed": 4,
     "user": {
      "displayName": "Zaw Ye Naung",
      "userId": "15328688917520132477"
     }
    },
    "outputId": "5f1b9e4f-658e-4a2b-fdd5-0e7ef76bd5a6"
   },
   "execution_count": 10,
   "outputs": [
    {
     "output_type": "stream",
     "name": "stdout",
     "text": [
      "a value is 10 and b value is 20\n"
     ]
    }
   ]
  },
  {
   "cell_type": "code",
   "source": [
    "#other way\n",
    "print('Hello {1} I am {0} I learn {3} and my goal is {2}'.format('Zaw Ye Naung', 'Guys', 'AI engineer', 'Python'))\n",
    "#                                                                           0         1         2             3"
   ],
   "metadata": {
    "colab": {
     "base_uri": "https://localhost:8080/"
    },
    "id": "pRMZ4vBNBCeQ",
    "executionInfo": {
     "status": "ok",
     "timestamp": 1702820615088,
     "user_tz": -390,
     "elapsed": 429,
     "user": {
      "displayName": "Zaw Ye Naung",
      "userId": "15328688917520132477"
     }
    },
    "outputId": "93619371-ed52-4369-db18-9127fbd4d2a0"
   },
   "execution_count": 23,
   "outputs": [
    {
     "output_type": "stream",
     "name": "stdout",
     "text": [
      "Hello Guys I am Zaw Ye Naung I learn Python and my goal is AI engineer\n"
     ]
    }
   ]
  },
  {
   "cell_type": "markdown",
   "source": [
    "#Identifier"
   ],
   "metadata": {
    "id": "wdte2a4E8Tef"
   }
  },
  {
   "cell_type": "code",
   "source": [
    "# identifier\n",
    "# letters, digits, and underscores\n",
    "a1 = 10\n",
    "a1_a2 = 20\n",
    "# don't allow space\n",
    "_as = 20\n",
    "# don't same keywords\n",
    "# example\n",
    "# True,False,None,class,is,not,try,while,for,pass,break,import,lambda global,def,if,else\n",
    "# Number\n",
    "# 1 integer, 2 float, 3 complex\n",
    "a = 20   # int\n",
    "# signed int and long int\n",
    "b = 20  # signed int\n",
    "# 1923848484 int\n",
    "x = 0xABDE\n",
    "y = 3.5  # float\n",
    "\n",
    "# complex\n",
    "z = 5.5e4\n",
    "z = (5.5*10) ** 4  # 5.5e4 is equal (5.5*10) ** 4\n",
    "\n",
    "# operator\n",
    "# arithmetic operator + - * /"
   ],
   "metadata": {
    "id": "kzX-n5BO7zsa",
    "executionInfo": {
     "status": "ok",
     "timestamp": 1702819363720,
     "user_tz": -390,
     "elapsed": 2,
     "user": {
      "displayName": "Zaw Ye Naung",
      "userId": "15328688917520132477"
     }
    }
   },
   "execution_count": 13,
   "outputs": []
  },
  {
   "cell_type": "markdown",
   "source": [
    "#input"
   ],
   "metadata": {
    "id": "5tM4UC0F87WG"
   }
  },
  {
   "cell_type": "code",
   "source": [
    "data = input('Please Enter Something :')\n",
    "print('User input data is : ', data)"
   ],
   "metadata": {
    "colab": {
     "base_uri": "https://localhost:8080/"
    },
    "id": "acDIvyUi8Xdc",
    "executionInfo": {
     "status": "ok",
     "timestamp": 1702819601947,
     "user_tz": -390,
     "elapsed": 17208,
     "user": {
      "displayName": "Zaw Ye Naung",
      "userId": "15328688917520132477"
     }
    },
    "outputId": "774151c0-42f3-408b-f962-640f66197ddb"
   },
   "execution_count": 14,
   "outputs": [
    {
     "output_type": "stream",
     "name": "stdout",
     "text": [
      "Please Enter Something :zaw Ye naung\n",
      "User input data is :  zaw Ye naung\n"
     ]
    }
   ]
  },
  {
   "cell_type": "markdown",
   "source": [
    "#Keyword Arugument"
   ],
   "metadata": {
    "id": "meurYiQT9usS"
   }
  },
  {
   "cell_type": "code",
   "source": [
    "print('I am {name} and I learn {language}'.format(name = 'Zaw Ye Naung', language= 'Python'))"
   ],
   "metadata": {
    "colab": {
     "base_uri": "https://localhost:8080/"
    },
    "id": "rQNef-lO9M8Y",
    "executionInfo": {
     "status": "ok",
     "timestamp": 1702819845383,
     "user_tz": -390,
     "elapsed": 3,
     "user": {
      "displayName": "Zaw Ye Naung",
      "userId": "15328688917520132477"
     }
    },
    "outputId": "528122f1-65d8-49bc-b67d-690447787615"
   },
   "execution_count": 17,
   "outputs": [
    {
     "output_type": "stream",
     "name": "stdout",
     "text": [
      "I am Zaw Ye Naung and I learn Python\n"
     ]
    }
   ]
  },
  {
   "cell_type": "markdown",
   "source": [
    "#Operator"
   ],
   "metadata": {
    "id": "yHZplEmd-kFq"
   }
  },
  {
   "cell_type": "code",
   "source": [
    "# = ဆိုတာတူညီတာကိုပြတာမဟုတ်ဘူး။ x = 20  ဆိုရာတွင် x ထဲသို့ 20 ဆိုသော value ထည့်သွင်းချင်းဖြစ်သည်။\n",
    "# =  is called assignement Operator\n",
    "# == is called relational Operator\n",
    "x = y = z = 20\n",
    "print('the result of x is : ', x)\n",
    "print('the result of y is : ', y)\n",
    "print('the result of z is : ', z)"
   ],
   "metadata": {
    "colab": {
     "base_uri": "https://localhost:8080/"
    },
    "id": "lFAtfbGX-M_p",
    "executionInfo": {
     "status": "ok",
     "timestamp": 1702820180517,
     "user_tz": -390,
     "elapsed": 3,
     "user": {
      "displayName": "Zaw Ye Naung",
      "userId": "15328688917520132477"
     }
    },
    "outputId": "e05a4567-ae43-4b56-9b1b-41b1ea5b383a"
   },
   "execution_count": 19,
   "outputs": [
    {
     "output_type": "stream",
     "name": "stdout",
     "text": [
      "the result of x is :  20\n",
      "the result of y is :  20\n",
      "the result of z is :  20\n"
     ]
    }
   ]
  },
  {
   "cell_type": "code",
   "source": [
    "y = 3.3\n",
    "print(type(y))"
   ],
   "metadata": {
    "colab": {
     "base_uri": "https://localhost:8080/"
    },
    "id": "0-PumyfZ_PsO",
    "executionInfo": {
     "status": "ok",
     "timestamp": 1702820201676,
     "user_tz": -390,
     "elapsed": 2,
     "user": {
      "displayName": "Zaw Ye Naung",
      "userId": "15328688917520132477"
     }
    },
    "outputId": "0c504384-8c2e-43eb-fe0c-90595ff276b0"
   },
   "execution_count": 20,
   "outputs": [
    {
     "output_type": "stream",
     "name": "stdout",
     "text": [
      "<class 'float'>\n"
     ]
    }
   ]
  },
  {
   "cell_type": "code",
   "source": [
    "x = 20\n",
    "print(type(x))"
   ],
   "metadata": {
    "colab": {
     "base_uri": "https://localhost:8080/"
    },
    "id": "uL3g7by0_j_y",
    "executionInfo": {
     "status": "ok",
     "timestamp": 1702820220473,
     "user_tz": -390,
     "elapsed": 3,
     "user": {
      "displayName": "Zaw Ye Naung",
      "userId": "15328688917520132477"
     }
    },
    "outputId": "26013411-79b0-4297-acef-84aba6bc0327"
   },
   "execution_count": 21,
   "outputs": [
    {
     "output_type": "stream",
     "name": "stdout",
     "text": [
      "<class 'int'>\n"
     ]
    }
   ]
  },
  {
   "cell_type": "code",
   "source": [
    "z = 'Zaw Zaw'\n",
    "print(type(z))"
   ],
   "metadata": {
    "colab": {
     "base_uri": "https://localhost:8080/"
    },
    "id": "IUd8z1_s_ohz",
    "executionInfo": {
     "status": "ok",
     "timestamp": 1702820241886,
     "user_tz": -390,
     "elapsed": 3,
     "user": {
      "displayName": "Zaw Ye Naung",
      "userId": "15328688917520132477"
     }
    },
    "outputId": "a2cdb50f-0d81-42b4-d260-8bee60100bd1"
   },
   "execution_count": 22,
   "outputs": [
    {
     "output_type": "stream",
     "name": "stdout",
     "text": [
      "<class 'str'>\n"
     ]
    }
   ]
  },
  {
   "cell_type": "markdown",
   "source": [
    "#relational Operator"
   ],
   "metadata": {
    "id": "Uw0-BGWbAH6-"
   }
  },
  {
   "cell_type": "code",
   "source": [
    "a = 50\n",
    "b = 50\n",
    "a == b\n",
    "# == > a is equal b\n",
    "print(a == b)"
   ],
   "metadata": {
    "colab": {
     "base_uri": "https://localhost:8080/"
    },
    "id": "MAUIM03J_tyR",
    "executionInfo": {
     "status": "ok",
     "timestamp": 1702820711406,
     "user_tz": -390,
     "elapsed": 2,
     "user": {
      "displayName": "Zaw Ye Naung",
      "userId": "15328688917520132477"
     }
    },
    "outputId": "4eb8ddfc-1f22-40c1-f8c1-ebcf20985ebd"
   },
   "execution_count": 24,
   "outputs": [
    {
     "output_type": "stream",
     "name": "stdout",
     "text": [
      "True\n"
     ]
    }
   ]
  },
  {
   "cell_type": "code",
   "source": [
    "a = 50\n",
    "b = 50\n",
    "a == b\n",
    "# !=  > a is not equal b\n",
    "print(a != b)"
   ],
   "metadata": {
    "colab": {
     "base_uri": "https://localhost:8080/"
    },
    "id": "Ygo3GKYZBgXP",
    "executionInfo": {
     "status": "ok",
     "timestamp": 1702820793836,
     "user_tz": -390,
     "elapsed": 2,
     "user": {
      "displayName": "Zaw Ye Naung",
      "userId": "15328688917520132477"
     }
    },
    "outputId": "8c589aea-ab0f-4097-ea64-b1ce8ac0aa3c"
   },
   "execution_count": 25,
   "outputs": [
    {
     "output_type": "stream",
     "name": "stdout",
     "text": [
      "False\n"
     ]
    }
   ]
  },
  {
   "cell_type": "code",
   "source": [
    "a = 60\n",
    "b = 50\n",
    "a != b\n",
    "print (a != b)"
   ],
   "metadata": {
    "colab": {
     "base_uri": "https://localhost:8080/"
    },
    "id": "lJUjCI6JB0oH",
    "executionInfo": {
     "status": "ok",
     "timestamp": 1702820855530,
     "user_tz": -390,
     "elapsed": 2,
     "user": {
      "displayName": "Zaw Ye Naung",
      "userId": "15328688917520132477"
     }
    },
    "outputId": "fb68a4b2-421e-4439-df2c-2115e57c751f"
   },
   "execution_count": 26,
   "outputs": [
    {
     "output_type": "stream",
     "name": "stdout",
     "text": [
      "True\n"
     ]
    }
   ]
  },
  {
   "cell_type": "code",
   "source": [
    "a = 60\n",
    "b = 70\n",
    "a < b\n",
    "print(a < b)\n",
    "#b is greater than a"
   ],
   "metadata": {
    "colab": {
     "base_uri": "https://localhost:8080/"
    },
    "id": "9lTKoCyZCDiL",
    "executionInfo": {
     "status": "ok",
     "timestamp": 1702821099018,
     "user_tz": -390,
     "elapsed": 2,
     "user": {
      "displayName": "Zaw Ye Naung",
      "userId": "15328688917520132477"
     }
    },
    "outputId": "87ed436e-4f80-4b60-c244-1c67f09d3951"
   },
   "execution_count": 29,
   "outputs": [
    {
     "output_type": "stream",
     "name": "stdout",
     "text": [
      "True\n"
     ]
    }
   ]
  },
  {
   "cell_type": "code",
   "source": [
    "a = 60\n",
    "b = 50\n",
    "a < b\n",
    "print(a < b)"
   ],
   "metadata": {
    "colab": {
     "base_uri": "https://localhost:8080/"
    },
    "id": "b9olmcE7Chig",
    "executionInfo": {
     "status": "ok",
     "timestamp": 1702821107423,
     "user_tz": -390,
     "elapsed": 3,
     "user": {
      "displayName": "Zaw Ye Naung",
      "userId": "15328688917520132477"
     }
    },
    "outputId": "c6869a70-bc57-4b8c-e6ff-25e6526f055f"
   },
   "execution_count": 30,
   "outputs": [
    {
     "output_type": "stream",
     "name": "stdout",
     "text": [
      "False\n"
     ]
    }
   ]
  },
  {
   "cell_type": "code",
   "source": [
    "a = 60\n",
    "b = 50\n",
    "a > b\n",
    "print(a > b)\n",
    "# a is greater than b"
   ],
   "metadata": {
    "colab": {
     "base_uri": "https://localhost:8080/"
    },
    "id": "fA6KhtbHC6U-",
    "executionInfo": {
     "status": "ok",
     "timestamp": 1702821134027,
     "user_tz": -390,
     "elapsed": 3,
     "user": {
      "displayName": "Zaw Ye Naung",
      "userId": "15328688917520132477"
     }
    },
    "outputId": "c9105b24-86bd-4beb-c865-5baa8435f0c3"
   },
   "execution_count": 31,
   "outputs": [
    {
     "output_type": "stream",
     "name": "stdout",
     "text": [
      "True\n"
     ]
    }
   ]
  },
  {
   "cell_type": "code",
   "source": [
    "a = 60\n",
    "b = 50\n",
    "a >= b\n",
    "print(a >= b)\n",
    "#a is equal and greater than b"
   ],
   "metadata": {
    "colab": {
     "base_uri": "https://localhost:8080/"
    },
    "id": "fhs1r8p7DHrw",
    "executionInfo": {
     "status": "ok",
     "timestamp": 1702821194858,
     "user_tz": -390,
     "elapsed": 3,
     "user": {
      "displayName": "Zaw Ye Naung",
      "userId": "15328688917520132477"
     }
    },
    "outputId": "aae0f59e-113b-41d8-adc0-a64ef79e3751"
   },
   "execution_count": 32,
   "outputs": [
    {
     "output_type": "stream",
     "name": "stdout",
     "text": [
      "True\n"
     ]
    }
   ]
  },
  {
   "cell_type": "code",
   "source": [
    "a = 60\n",
    "b = 60\n",
    "a >= b\n",
    "print(a >= b)\n",
    "#a is equal and greater than b"
   ],
   "metadata": {
    "colab": {
     "base_uri": "https://localhost:8080/"
    },
    "id": "Z15kj97MDWY0",
    "executionInfo": {
     "status": "ok",
     "timestamp": 1702821227846,
     "user_tz": -390,
     "elapsed": 2,
     "user": {
      "displayName": "Zaw Ye Naung",
      "userId": "15328688917520132477"
     }
    },
    "outputId": "1c60ad9f-4296-4d62-d1d9-9381e95d6f71"
   },
   "execution_count": 33,
   "outputs": [
    {
     "output_type": "stream",
     "name": "stdout",
     "text": [
      "True\n"
     ]
    }
   ]
  },
  {
   "cell_type": "code",
   "source": [
    "a = 60\n",
    "b = 70\n",
    "a <= b\n",
    "print(a <= b)\n",
    "#a is equal and greater than b"
   ],
   "metadata": {
    "colab": {
     "base_uri": "https://localhost:8080/"
    },
    "id": "4HpM7GY_DeiD",
    "executionInfo": {
     "status": "ok",
     "timestamp": 1702821304121,
     "user_tz": -390,
     "elapsed": 3,
     "user": {
      "displayName": "Zaw Ye Naung",
      "userId": "15328688917520132477"
     }
    },
    "outputId": "d438caba-f54a-4fac-eba8-23fb8317d6dc"
   },
   "execution_count": 35,
   "outputs": [
    {
     "output_type": "stream",
     "name": "stdout",
     "text": [
      "True\n"
     ]
    }
   ]
  },
  {
   "cell_type": "code",
   "source": [
    "a = 70\n",
    "b = 70\n",
    "a <= b\n",
    "print(a <= b)\n",
    "#a is equal and greater than b"
   ],
   "metadata": {
    "colab": {
     "base_uri": "https://localhost:8080/"
    },
    "id": "jBZ-ZfUbDrrK",
    "executionInfo": {
     "status": "ok",
     "timestamp": 1702821317843,
     "user_tz": -390,
     "elapsed": 3,
     "user": {
      "displayName": "Zaw Ye Naung",
      "userId": "15328688917520132477"
     }
    },
    "outputId": "e54b75f6-60ca-4c10-cd8c-2b1d664e1d75"
   },
   "execution_count": 36,
   "outputs": [
    {
     "output_type": "stream",
     "name": "stdout",
     "text": [
      "True\n"
     ]
    }
   ]
  },
  {
   "cell_type": "markdown",
   "source": [
    "#variable"
   ],
   "metadata": {
    "id": "TiQ54Ff3EAff"
   }
  },
  {
   "cell_type": "code",
   "source": [
    "# variable mean storage of data (program ထဲတွင်ရှိသော data များကို သိုလှောင်သိမ်းဆည်းရာနေရာ)\n",
    "x = 2  # program memory (integer)\n"
   ],
   "metadata": {
    "id": "bo7s-ly6D0eP",
    "executionInfo": {
     "status": "ok",
     "timestamp": 1702821427522,
     "user_tz": -390,
     "elapsed": 2,
     "user": {
      "displayName": "Zaw Ye Naung",
      "userId": "15328688917520132477"
     }
    }
   },
   "execution_count": 37,
   "outputs": []
  },
  {
   "cell_type": "code",
   "source": [
    "# x = variable, 2 = data\n",
    "y = 3.3  # float\n",
    "z = 'green'  # string\n"
   ],
   "metadata": {
    "id": "9BX688g_EPRg",
    "executionInfo": {
     "status": "ok",
     "timestamp": 1702821440728,
     "user_tz": -390,
     "elapsed": 2,
     "user": {
      "displayName": "Zaw Ye Naung",
      "userId": "15328688917520132477"
     }
    }
   },
   "execution_count": 38,
   "outputs": []
  },
  {
   "cell_type": "code",
   "source": [
    "aa = 1.1\n",
    "bb = 1.2\n",
    "print(aa + bb)\n",
    "print(aa * bb)\n",
    "print(aa - bb)\n",
    "print(aa / bb)\n",
    "print(aa ** bb)"
   ],
   "metadata": {
    "colab": {
     "base_uri": "https://localhost:8080/"
    },
    "id": "dndOzHqBESe9",
    "executionInfo": {
     "status": "ok",
     "timestamp": 1702821463671,
     "user_tz": -390,
     "elapsed": 3,
     "user": {
      "displayName": "Zaw Ye Naung",
      "userId": "15328688917520132477"
     }
    },
    "outputId": "8ebe0177-f8f0-4c73-b6ac-e34b26fb4ce4"
   },
   "execution_count": 39,
   "outputs": [
    {
     "output_type": "stream",
     "name": "stdout",
     "text": [
      "2.3\n",
      "1.32\n",
      "-0.09999999999999987\n",
      "0.9166666666666667\n",
      "1.1211693641406024\n"
     ]
    }
   ]
  },
  {
   "cell_type": "code",
   "source": [
    "a = complex(1,2)"
   ],
   "metadata": {
    "id": "jW4KsSKPEYFY",
    "executionInfo": {
     "status": "ok",
     "timestamp": 1702821503507,
     "user_tz": -390,
     "elapsed": 2,
     "user": {
      "displayName": "Zaw Ye Naung",
      "userId": "15328688917520132477"
     }
    }
   },
   "execution_count": 40,
   "outputs": []
  },
  {
   "cell_type": "code",
   "source": [
    "a"
   ],
   "metadata": {
    "colab": {
     "base_uri": "https://localhost:8080/"
    },
    "id": "LNmTYjC8Ehx0",
    "executionInfo": {
     "status": "ok",
     "timestamp": 1702821507263,
     "user_tz": -390,
     "elapsed": 2,
     "user": {
      "displayName": "Zaw Ye Naung",
      "userId": "15328688917520132477"
     }
    },
    "outputId": "23a71afa-253f-486f-a1c0-fdbe4ece7622"
   },
   "execution_count": 41,
   "outputs": [
    {
     "output_type": "execute_result",
     "data": {
      "text/plain": [
       "(1+2j)"
      ]
     },
     "metadata": {},
     "execution_count": 41
    }
   ]
  },
  {
   "cell_type": "code",
   "source": [
    "a.real"
   ],
   "metadata": {
    "colab": {
     "base_uri": "https://localhost:8080/"
    },
    "id": "fySeBBCYEitU",
    "executionInfo": {
     "status": "ok",
     "timestamp": 1702821530157,
     "user_tz": -390,
     "elapsed": 2,
     "user": {
      "displayName": "Zaw Ye Naung",
      "userId": "15328688917520132477"
     }
    },
    "outputId": "8189ae67-d9d9-477a-a12b-bf4a83e67b17"
   },
   "execution_count": 42,
   "outputs": [
    {
     "output_type": "execute_result",
     "data": {
      "text/plain": [
       "1.0"
      ]
     },
     "metadata": {},
     "execution_count": 42
    }
   ]
  },
  {
   "cell_type": "code",
   "source": [
    "a.imag"
   ],
   "metadata": {
    "id": "0ANkNUoaEoWf",
    "executionInfo": {
     "status": "ok",
     "timestamp": 1702821537577,
     "user_tz": -390,
     "elapsed": 3,
     "user": {
      "displayName": "Zaw Ye Naung",
      "userId": "15328688917520132477"
     }
    },
    "outputId": "8d0fe429-7351-4a78-eabd-f1464cb68890",
    "colab": {
     "base_uri": "https://localhost:8080/"
    }
   },
   "execution_count": 43,
   "outputs": [
    {
     "output_type": "execute_result",
     "data": {
      "text/plain": [
       "2.0"
      ]
     },
     "metadata": {},
     "execution_count": 43
    }
   ]
  },
  {
   "cell_type": "code",
   "source": [],
   "metadata": {
    "id": "KXpPkb0AEqMY"
   },
   "execution_count": null,
   "outputs": []
  }
 ]
}
