{
  "nbformat": 4,
  "nbformat_minor": 0,
  "metadata": {
    "colab": {
      "provenance": [],
      "gpuType": "T4",
      "authorship_tag": "ABX9TyPNMhtzuLy8I+2OaCFcVyvq",
      "include_colab_link": true
    },
    "kernelspec": {
      "name": "python3",
      "display_name": "Python 3"
    },
    "language_info": {
      "name": "python"
    },
    "accelerator": "GPU"
  },
  "cells": [
    {
      "cell_type": "markdown",
      "metadata": {
        "id": "view-in-github",
        "colab_type": "text"
      },
      "source": [
        "<a href=\"https://colab.research.google.com/github/ZawYeNaung-nika/Python_Basic_to_Advance/blob/main/1_1_3.ipynb\" target=\"_parent\"><img src=\"https://colab.research.google.com/assets/colab-badge.svg\" alt=\"Open In Colab\"/></a>"
      ]
    },
    {
      "cell_type": "markdown",
      "source": [
        "#LOOP Intro"
      ],
      "metadata": {
        "id": "JNCbpqfoO_1x"
      }
    },
    {
      "cell_type": "code",
      "source": [
        "def myfun1():\n",
        "  print('This is my fun 1')\n",
        "  print('Testing')\n",
        "print('test')"
      ],
      "metadata": {
        "colab": {
          "base_uri": "https://localhost:8080/"
        },
        "id": "9PsAVgwoPCwm",
        "outputId": "9bed101f-bfc4-47e1-fdd5-f27286dddfba"
      },
      "execution_count": null,
      "outputs": [
        {
          "output_type": "stream",
          "name": "stdout",
          "text": [
            "test\n"
          ]
        }
      ]
    },
    {
      "cell_type": "code",
      "source": [
        "def myfun2():\n",
        "  print('This is my fun 2')\n",
        "  print('test')\n",
        "print('testing')"
      ],
      "metadata": {
        "colab": {
          "base_uri": "https://localhost:8080/"
        },
        "id": "nbFgRNngPHOy",
        "outputId": "bed289a2-8a75-400b-f20e-9dd7921f0f53"
      },
      "execution_count": null,
      "outputs": [
        {
          "output_type": "stream",
          "name": "stdout",
          "text": [
            "testing\n"
          ]
        }
      ]
    },
    {
      "cell_type": "markdown",
      "source": [
        "#while"
      ],
      "metadata": {
        "id": "cjqFnaXwPe2f"
      }
    },
    {
      "cell_type": "code",
      "source": [
        "a = 10\n",
        "b = 20 #19\n",
        "while a <= b:\n",
        "  print('{} I love Sint'.format(a))\n",
        "  a += 1\n",
        "\n"
      ],
      "metadata": {
        "colab": {
          "base_uri": "https://localhost:8080/"
        },
        "id": "OUouw5vJPRam",
        "outputId": "3603c44a-40cf-40eb-b361-60c29c375638"
      },
      "execution_count": null,
      "outputs": [
        {
          "output_type": "stream",
          "name": "stdout",
          "text": [
            "10 I love Sint\n",
            "11 I love Sint\n",
            "12 I love Sint\n",
            "13 I love Sint\n",
            "14 I love Sint\n",
            "15 I love Sint\n",
            "16 I love Sint\n",
            "17 I love Sint\n",
            "18 I love Sint\n",
            "19 I love Sint\n",
            "20 I love Sint\n"
          ]
        }
      ]
    },
    {
      "cell_type": "code",
      "source": [
        "a = 10\n",
        "b = 20 #19\n",
        "while a > b:\n",
        "  print('{} I love Sint'.format(a))\n",
        "  a += 1\n",
        "print('Nothing Do!')\n"
      ],
      "metadata": {
        "colab": {
          "base_uri": "https://localhost:8080/"
        },
        "id": "VzP5grv9P_sl",
        "outputId": "e423292b-7a31-428b-d367-6164a7f0f670"
      },
      "execution_count": null,
      "outputs": [
        {
          "output_type": "stream",
          "name": "stdout",
          "text": [
            "Nothing Do!\n"
          ]
        }
      ]
    },
    {
      "cell_type": "markdown",
      "source": [
        "#break"
      ],
      "metadata": {
        "id": "jTRVhLEqQN5h"
      }
    },
    {
      "cell_type": "code",
      "source": [
        "for i in 'ZawYe':\n",
        "  if i == 'Y':\n",
        "    break\n",
        "  print(i)\n",
        "print('________________________________')\n",
        "#break stop when meet pointed sample"
      ],
      "metadata": {
        "colab": {
          "base_uri": "https://localhost:8080/"
        },
        "id": "Qej1Wm76QLav",
        "outputId": "8fe8785d-45c9-4589-d0bb-1ce8074180bf"
      },
      "execution_count": null,
      "outputs": [
        {
          "output_type": "stream",
          "name": "stdout",
          "text": [
            "Z\n",
            "a\n",
            "w\n",
            "________________________________\n"
          ]
        }
      ]
    },
    {
      "cell_type": "markdown",
      "source": [
        "#Continue"
      ],
      "metadata": {
        "id": "h0uJvyvCQ04_"
      }
    },
    {
      "cell_type": "code",
      "source": [
        "for i in 'ZawYe':\n",
        "  if i == 'Y':\n",
        "    continue\n",
        "  print(i)\n",
        "print('________________________________')\n",
        "#continue jump  pointed sample to new things"
      ],
      "metadata": {
        "colab": {
          "base_uri": "https://localhost:8080/"
        },
        "id": "p9lYm_4pQsC2",
        "outputId": "f21f5318-8742-444d-ba18-82bb1ead211c"
      },
      "execution_count": null,
      "outputs": [
        {
          "output_type": "stream",
          "name": "stdout",
          "text": [
            "Z\n",
            "a\n",
            "w\n",
            "e\n",
            "________________________________\n"
          ]
        }
      ]
    },
    {
      "cell_type": "code",
      "source": [
        "list = [10, 100, 1000, 20, 30, 80]\n",
        "data = 81\n",
        "found = False\n",
        "index = 0\n",
        "while index < len(list):\n",
        "  if list[index] == data:\n",
        "    found = True\n",
        "    break\n",
        "  index += 1\n",
        "if not found:\n",
        "  list.append(data)\n",
        "print(list)"
      ],
      "metadata": {
        "id": "0MnvYMCnQ7Cc",
        "colab": {
          "base_uri": "https://localhost:8080/"
        },
        "outputId": "986065a6-f77c-4d49-baca-34e6223c9387"
      },
      "execution_count": 3,
      "outputs": [
        {
          "output_type": "stream",
          "name": "stdout",
          "text": [
            "[10, 100, 1000, 20, 30, 80, 81]\n"
          ]
        }
      ]
    },
    {
      "cell_type": "code",
      "source": [
        "ls = [10,13,15,99,71,3]\n",
        "data = 99\n",
        "found = False #flag\n",
        "index = 0\n",
        "while index < len(ls): #true\n",
        "    if ls[index] == data:\n",
        "        found = True\n",
        "        break\n",
        "    index += 1\n",
        "if not found:\n",
        "    ls.append(data)\n",
        "print(ls)"
      ],
      "metadata": {
        "colab": {
          "base_uri": "https://localhost:8080/"
        },
        "id": "K1LRzzQwqR_G",
        "outputId": "1d813952-a37f-4481-be56-d772fda036dc"
      },
      "execution_count": 2,
      "outputs": [
        {
          "output_type": "stream",
          "name": "stdout",
          "text": [
            "[10, 13, 15, 99, 71, 3]\n"
          ]
        }
      ]
    },
    {
      "cell_type": "code",
      "source": [],
      "metadata": {
        "id": "wh3FPdQrqUHa"
      },
      "execution_count": null,
      "outputs": []
    }
  ]
}