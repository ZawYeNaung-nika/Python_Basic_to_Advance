{
  "nbformat": 4,
  "nbformat_minor": 0,
  "metadata": {
    "colab": {
      "provenance": [],
      "gpuType": "T4",
      "authorship_tag": "ABX9TyMM6BXow+9XA6+SwGnIS90f",
      "include_colab_link": true
    },
    "kernelspec": {
      "name": "python3",
      "display_name": "Python 3"
    },
    "language_info": {
      "name": "python"
    },
    "accelerator": "GPU"
  },
  "cells": [
    {
      "cell_type": "markdown",
      "metadata": {
        "id": "view-in-github",
        "colab_type": "text"
      },
      "source": [
        "<a href=\"https://colab.research.google.com/github/ZawYeNaung-nika/Python_Basic_to_Advance/blob/main/1_1_4.ipynb\" target=\"_parent\"><img src=\"https://colab.research.google.com/assets/colab-badge.svg\" alt=\"Open In Colab\"/></a>"
      ]
    },
    {
      "cell_type": "markdown",
      "source": [
        "#Random"
      ],
      "metadata": {
        "id": "sLPA9QjHt_-_"
      }
    },
    {
      "cell_type": "code",
      "source": [
        "import random"
      ],
      "metadata": {
        "id": "fsT0N9NvuB7Z"
      },
      "execution_count": null,
      "outputs": []
    },
    {
      "cell_type": "code",
      "source": [
        "q = random\n",
        "print(q.random())\n",
        "#take result 0 an 1"
      ],
      "metadata": {
        "colab": {
          "base_uri": "https://localhost:8080/"
        },
        "id": "fWkb0nKmub6k",
        "outputId": "ef4a3ee5-7377-4266-e8b9-758a42953df1"
      },
      "execution_count": null,
      "outputs": [
        {
          "output_type": "stream",
          "name": "stdout",
          "text": [
            "0.5570208602524694\n"
          ]
        }
      ]
    },
    {
      "cell_type": "code",
      "source": [
        "#for integer (randint and randrange)\n",
        "a = random\n",
        "print('Random randint : ', a.randint(0,9))"
      ],
      "metadata": {
        "colab": {
          "base_uri": "https://localhost:8080/"
        },
        "id": "SFtED_gYujAl",
        "outputId": "02718dff-3c65-4f31-ccad-772bdcfdb6c6"
      },
      "execution_count": null,
      "outputs": [
        {
          "output_type": "stream",
          "name": "stdout",
          "text": [
            "Random randint :  2\n"
          ]
        }
      ]
    },
    {
      "cell_type": "code",
      "source": [
        "a = random\n",
        "print('Random randrange : ', a.randrange(0,10,2))"
      ],
      "metadata": {
        "colab": {
          "base_uri": "https://localhost:8080/"
        },
        "id": "xSEWTes0u67X",
        "outputId": "1d369c0d-a185-4135-d057-ce87518ef455"
      },
      "execution_count": null,
      "outputs": [
        {
          "output_type": "stream",
          "name": "stdout",
          "text": [
            "Random randrange :  4\n"
          ]
        }
      ]
    },
    {
      "cell_type": "code",
      "source": [
        "#random with list tuple or set\n",
        "a = random\n",
        "name = ['Zaw', 'Ye', 'Naung', 'Sint', 'Thiri', 'Shwe']\n",
        "print('Select name : ', a.choice(name))"
      ],
      "metadata": {
        "colab": {
          "base_uri": "https://localhost:8080/"
        },
        "id": "7BZ8ZMsjvGu_",
        "outputId": "e16816e0-22fa-42f5-b61e-7bba8ac781b0"
      },
      "execution_count": null,
      "outputs": [
        {
          "output_type": "stream",
          "name": "stdout",
          "text": [
            "Select name :  Sint\n"
          ]
        }
      ]
    },
    {
      "cell_type": "code",
      "source": [
        "# take result with group\n",
        "a = random\n",
        "name = ['Zaw', 'Ye', 'Naung', 'Sint', 'Thiri', 'Shwe']\n",
        "print('Select name : ', a.sample(name, 4))"
      ],
      "metadata": {
        "colab": {
          "base_uri": "https://localhost:8080/"
        },
        "id": "21xrxCx8vnkO",
        "outputId": "fce21cab-7b60-4e82-9ca3-e79be8dcee8f"
      },
      "execution_count": null,
      "outputs": [
        {
          "output_type": "stream",
          "name": "stdout",
          "text": [
            "Select name :  ['Shwe', 'Naung', 'Sint', 'Thiri']\n"
          ]
        }
      ]
    },
    {
      "cell_type": "code",
      "source": [
        "#seed\n",
        "a = random\n",
        "random.seed(1000000000)\n",
        "print('Random number for seed is : ', a.random())"
      ],
      "metadata": {
        "colab": {
          "base_uri": "https://localhost:8080/"
        },
        "id": "xZ_PQO1dvyoM",
        "outputId": "a144cf54-d40a-4056-c362-7dda9543a8d2"
      },
      "execution_count": null,
      "outputs": [
        {
          "output_type": "stream",
          "name": "stdout",
          "text": [
            "Random number for seed is :  0.5035138323999615\n"
          ]
        }
      ]
    },
    {
      "cell_type": "code",
      "source": [
        "name = ['Zaw', 'Ye', 'Naung', 'Sint', 'Thiri', 'Shwe']\n",
        "print('Before shuffle : ', name)\n",
        "random.shuffle(name)\n",
        "print('After shuffle : ', name)"
      ],
      "metadata": {
        "colab": {
          "base_uri": "https://localhost:8080/"
        },
        "id": "kvplPs5PwMBh",
        "outputId": "1d5eac15-8c6b-4b00-90da-eabbf92a1423"
      },
      "execution_count": null,
      "outputs": [
        {
          "output_type": "stream",
          "name": "stdout",
          "text": [
            "Before shuffle :  ['Zaw', 'Ye', 'Naung', 'Sint', 'Thiri', 'Shwe']\n",
            "After shuffle :  ['Shwe', 'Naung', 'Ye', 'Sint', 'Zaw', 'Thiri']\n"
          ]
        }
      ]
    },
    {
      "cell_type": "code",
      "source": [
        "a = random\n",
        "print('Uniform number is : ', a.uniform(20.5,60.6))\n",
        "print('Triangular number is :', a.triangular(10.5, 30.6, 80.9))"
      ],
      "metadata": {
        "colab": {
          "base_uri": "https://localhost:8080/"
        },
        "id": "DwN7qF-CwbxD",
        "outputId": "297a53e4-13bf-436f-9d1a-7b3d518d919f"
      },
      "execution_count": null,
      "outputs": [
        {
          "output_type": "stream",
          "name": "stdout",
          "text": [
            "Uniform number is :  51.64646706947711\n",
            "Triangular number is : 45.88530341351069\n"
          ]
        }
      ]
    },
    {
      "cell_type": "markdown",
      "source": [
        "#Secure Random"
      ],
      "metadata": {
        "id": "eWkKdOBjaHPv"
      }
    },
    {
      "cell_type": "code",
      "source": [
        "import secrets"
      ],
      "metadata": {
        "id": "GxM5drhqwqZW"
      },
      "execution_count": 1,
      "outputs": []
    },
    {
      "cell_type": "code",
      "source": [
        "#CSPRNG = cryptographically strong pesudo=random number generator\n",
        "print('Printing Integer Number using secrets module')\n",
        "\n",
        "secure_generator = secrets.SystemRandom()\n",
        "random_number = secure_generator.randint(0,10)\n",
        "print('Secure randint number is : ', random_number)"
      ],
      "metadata": {
        "colab": {
          "base_uri": "https://localhost:8080/"
        },
        "id": "iEVA9pmvbDHG",
        "outputId": "bc107b00-af40-41b5-e035-0ace7c695aba"
      },
      "execution_count": 3,
      "outputs": [
        {
          "output_type": "stream",
          "name": "stdout",
          "text": [
            "Printing Integer Number using secrets module\n",
            "Secure randint number is :  9\n"
          ]
        }
      ]
    },
    {
      "cell_type": "code",
      "source": [
        "secure_generator = secrets.SystemRandom()\n",
        "random_number = secure_generator.randrange(0, 50, 4)\n",
        "print('Secure randrange number is : ', random_number)"
      ],
      "metadata": {
        "colab": {
          "base_uri": "https://localhost:8080/"
        },
        "id": "9cwnAsPWb9Yi",
        "outputId": "294d5dc2-c89d-455a-ed27-1f439431b70e"
      },
      "execution_count": 4,
      "outputs": [
        {
          "output_type": "stream",
          "name": "stdout",
          "text": [
            "Secure randrange number is :  16\n"
          ]
        }
      ]
    },
    {
      "cell_type": "code",
      "source": [
        "#choice\n",
        "num_list = [1, 2, 3, 4, 5, 6, 7, 10, 11, 50, 88, 90, 101]\n",
        "secure_generator = secrets.SystemRandom()\n",
        "random_number = secure_generator.choice(num_list)\n",
        "print('Secure choice Number is : ', random_number)"
      ],
      "metadata": {
        "colab": {
          "base_uri": "https://localhost:8080/"
        },
        "id": "yMgGaoe0cSCQ",
        "outputId": "f2933ef8-65f6-456a-f035-1ed53987a27c"
      },
      "execution_count": 5,
      "outputs": [
        {
          "output_type": "stream",
          "name": "stdout",
          "text": [
            "Secure choice Number is :  6\n"
          ]
        }
      ]
    },
    {
      "cell_type": "code",
      "source": [
        "#sample\n",
        "num_list = [1, 2, 3, 4, 5, 6, 7, 10, 11, 50, 88, 90, 101]\n",
        "secure_generator = secrets.SystemRandom()\n",
        "random_number = secure_generator.sample(num_list,4)\n",
        "print('Secure choice Number is : ', random_number)"
      ],
      "metadata": {
        "colab": {
          "base_uri": "https://localhost:8080/"
        },
        "id": "c0gK6BJ_c3EY",
        "outputId": "062615aa-eda4-4890-8a7b-688ee006ef63"
      },
      "execution_count": 7,
      "outputs": [
        {
          "output_type": "stream",
          "name": "stdout",
          "text": [
            "Secure choice Number is :  [2, 5, 7, 1]\n"
          ]
        }
      ]
    },
    {
      "cell_type": "code",
      "source": [
        "#uniform\n",
        "num_list = [1, 2, 3, 4, 5, 6, 7, 10, 11, 50, 88, 90, 101]\n",
        "secure_generator = secrets.SystemRandom()\n",
        "random_number = secure_generator.uniform(1.5, 12.5)\n",
        "print('Secure choice Number is : ', random_number)"
      ],
      "metadata": {
        "colab": {
          "base_uri": "https://localhost:8080/"
        },
        "id": "T_Jho-v0dUAm",
        "outputId": "a2e6a16b-f534-4ad1-aa33-cc1201017e23"
      },
      "execution_count": 8,
      "outputs": [
        {
          "output_type": "stream",
          "name": "stdout",
          "text": [
            "Secure choice Number is :  6.1467677421215825\n"
          ]
        }
      ]
    },
    {
      "cell_type": "code",
      "source": [
        "#tokenization\n",
        "print(secrets.token_bytes(4))"
      ],
      "metadata": {
        "colab": {
          "base_uri": "https://localhost:8080/"
        },
        "id": "x8EJEdP4dqpE",
        "outputId": "76f31305-f385-4319-c482-137c1f74a7d8"
      },
      "execution_count": 10,
      "outputs": [
        {
          "output_type": "stream",
          "name": "stdout",
          "text": [
            "b'wsQ\\xd1'\n"
          ]
        }
      ]
    },
    {
      "cell_type": "code",
      "source": [
        "print(secrets.token_hex(4)) # 1 bytes to  two hex digits"
      ],
      "metadata": {
        "colab": {
          "base_uri": "https://localhost:8080/"
        },
        "id": "jhOx_7yVeJZg",
        "outputId": "ba2ba47c-6a64-4b93-d81a-bb21c7db01fa"
      },
      "execution_count": 11,
      "outputs": [
        {
          "output_type": "stream",
          "name": "stdout",
          "text": [
            "36bb9dbc\n"
          ]
        }
      ]
    },
    {
      "cell_type": "code",
      "source": [
        "print(secrets.token_bytes())"
      ],
      "metadata": {
        "colab": {
          "base_uri": "https://localhost:8080/"
        },
        "id": "j_T9wpspepBR",
        "outputId": "67a2d4f1-c141-4d10-aa88-bfbe1b16f53a"
      },
      "execution_count": 12,
      "outputs": [
        {
          "output_type": "stream",
          "name": "stdout",
          "text": [
            "b'\\xf1\\xfcr,\\xe8qy\\x88|h\\x12\\xd9\\x11lp\\xdf\\x08\\xb6\\xefHj\\x85o\\x1d&\\xfa\\x95\\x9c\\x7f9&\\xe6'\n"
          ]
        }
      ]
    },
    {
      "cell_type": "code",
      "source": [
        "print(secrets.token_hex())"
      ],
      "metadata": {
        "colab": {
          "base_uri": "https://localhost:8080/"
        },
        "id": "g1jlT65Xe1tT",
        "outputId": "49d12e7a-bb31-41c5-c962-02e463853c55"
      },
      "execution_count": 14,
      "outputs": [
        {
          "output_type": "stream",
          "name": "stdout",
          "text": [
            "9f81edc41bbfcdc55f7f8c1c1798cea091ac82a0f9fffcedf97720b6a5cdedd0\n"
          ]
        }
      ]
    },
    {
      "cell_type": "code",
      "source": [
        "#links reset url safe\n",
        "password_reset_link = 'https://zawyenaung.com/ml/ai/reset='\n",
        "password_reset_link += secrets.token_urlsafe(32)\n",
        "print('Generate secure URL : ', password_reset_link)\n",
        "#cyber security knowkledge is use good for 32 bytes"
      ],
      "metadata": {
        "colab": {
          "base_uri": "https://localhost:8080/"
        },
        "id": "qKFePGpse5YL",
        "outputId": "924d4673-34b1-47fd-ac96-bc07d85c3ddb"
      },
      "execution_count": 16,
      "outputs": [
        {
          "output_type": "stream",
          "name": "stdout",
          "text": [
            "Generate secure URL :  https://zawyenaung.com/ml/ai/reset=fnpsh7dg_EXSUrUmApznJlI4DhKolvNc6YLUR23ImHQ\n"
          ]
        }
      ]
    },
    {
      "cell_type": "code",
      "source": [],
      "metadata": {
        "id": "L9JwLD3_ftRj"
      },
      "execution_count": null,
      "outputs": []
    }
  ]
}